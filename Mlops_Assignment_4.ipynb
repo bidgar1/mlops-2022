{
  "nbformat": 4,
  "nbformat_minor": 0,
  "metadata": {
    "colab": {
      "provenance": []
    },
    "kernelspec": {
      "name": "python3",
      "display_name": "Python 3"
    },
    "language_info": {
      "name": "python"
    }
  },
  "cells": [
    {
      "cell_type": "code",
      "execution_count": 29,
      "metadata": {
        "id": "csE2AnXTMQnw"
      },
      "outputs": [],
      "source": [
        "from sklearn import datasets, svm, metrics, tree\n"
      ]
    },
    {
      "cell_type": "code",
      "source": [
        "from sklearn.datasets import load_iris\n",
        "\n",
        "iris = load_iris()\n",
        "X, y = iris.data, iris.target"
      ],
      "metadata": {
        "id": "rXFDLVb3whUs"
      },
      "execution_count": 30,
      "outputs": []
    },
    {
      "cell_type": "code",
      "source": [
        "from sklearn.model_selection import train_test_split\n",
        "X_train1, X_test1, y_train1, y_test1 = train_test_split(\n",
        "    X, y, test_size=0.3, shuffle=False\n",
        ")\n",
        "\n",
        "X_train2, X_test2, y_train2, y_test2 = train_test_split(\n",
        "    X, y, test_size=0.4, shuffle=False\n",
        ")\n",
        "\n",
        "X_train3, X_test3, y_train3, y_test3 = train_test_split(\n",
        "    X, y, test_size=0.5, shuffle=False\n",
        ")\n",
        "\n",
        "X_train4, X_test4, y_train4, y_test4 = train_test_split(\n",
        "    X, y, test_size=0.2, shuffle=False\n",
        ")\n",
        "\n",
        "X_train5, X_test5, y_train5, y_test5 = train_test_split(\n",
        "    X, y, test_size=0.35, shuffle=False\n",
        ")"
      ],
      "metadata": {
        "id": "mZfBYId9wwPT"
      },
      "execution_count": 31,
      "outputs": []
    },
    {
      "cell_type": "code",
      "source": [
        "def train_model_svm(x_train, y_train, x_test, y_test):\n",
        "  svm_model = svm.SVC()\n",
        "  svm_model.fit(x_train, y_train)\n",
        "  svm_predicted_train = svm_model.predict(x_test)\n",
        "  # svm_train_metric = metrics.explained_variance_score(y_test, svm_predicted_train)\n",
        "  svm_train_metric = metric(y_pred=svm_predicted_train, y_true=y_test)\n",
        "\n",
        "  return svm_train_metric;\n",
        "\n",
        "def train_model_tree(x_train, y_train, x_test, y_test):\n",
        "  tree_model = tree.DecisionTreeClassifier()\n",
        "  tree_model.fit(x_train, y_train)\n",
        "  tree_predicted_train = tree_model.predict(x_test)\n",
        "  # tree_train_metric = metrics.explained_variance_score(y_test,tree_predicted_train)\n",
        "  tree_train_metric = metric(y_pred=tree_predicted_train, y_true=y_test)\n",
        "  \n",
        "  return tree_train_metric;\n",
        "\n"
      ],
      "metadata": {
        "id": "vUQJiRUzL_vv"
      },
      "execution_count": 42,
      "outputs": []
    },
    {
      "cell_type": "code",
      "source": [
        "from numpy import mean\n",
        "variance_svm_1 = train_model_svm(X_train1, y_train1, X_test1, y_test1)\n",
        "variance_svm_2 = train_model_svm(X_train2, y_train2, X_test2, y_test2)\n",
        "variance_svm_3 = train_model_svm(X_train3, y_train3, X_test3, y_test3)\n",
        "variance_svm_4 = train_model_svm(X_train4, y_train4, X_test4, y_test4)\n",
        "variance_svm_5 = train_model_svm(X_train5, y_train5, X_test5, y_test5)\n",
        "\n"
      ],
      "metadata": {
        "id": "H6yElv3oPnWF"
      },
      "execution_count": 43,
      "outputs": []
    },
    {
      "cell_type": "code",
      "source": [
        "print('1 ',variance_svm_1)\n",
        "print('2 ',variance_svm_2)\n",
        "print('3 ',variance_svm_3)\n",
        "print('4 ',variance_svm_4)\n",
        "print('5 ',variance_svm_5)"
      ],
      "metadata": {
        "colab": {
          "base_uri": "https://localhost:8080/"
        },
        "id": "tHCfJN91P2ke",
        "outputId": "5be7dc63-65d4-4f7d-8cce-3f4a0514e8d6"
      },
      "execution_count": 44,
      "outputs": [
        {
          "output_type": "stream",
          "name": "stdout",
          "text": [
            "1  0.044444444444444446\n",
            "2  0.16666666666666666\n",
            "3  0.3333333333333333\n",
            "4  0.7\n",
            "5  0.05660377358490566\n"
          ]
        }
      ]
    },
    {
      "cell_type": "code",
      "source": [
        "variance_tree_1 = train_model_tree(X_train1, y_train1, X_test1, y_test1)\n",
        "variance_tree_2 = train_model_tree(X_train2, y_train2, X_test2, y_test2)\n",
        "variance_tree_3 = train_model_tree(X_train3, y_train3, X_test3, y_test3)\n",
        "variance_tree_4 = train_model_tree(X_train4, y_train4, X_test4, y_test4)\n",
        "variance_tree_5 = train_model_tree(X_train5, y_train5, X_test5, y_test5)"
      ],
      "metadata": {
        "id": "rlKHeKuTTJLC"
      },
      "execution_count": 40,
      "outputs": []
    },
    {
      "cell_type": "code",
      "source": [
        "print('1 ',variance_tree_1)\n",
        "print('2 ',variance_tree_2)\n",
        "print('3 ',variance_tree_3)\n",
        "print('4 ',variance_tree_4)\n",
        "print('5 ',variance_tree_5)"
      ],
      "metadata": {
        "colab": {
          "base_uri": "https://localhost:8080/"
        },
        "id": "3bEVl0o5TtA1",
        "outputId": "8ae8a5ba-f102-4a28-c78d-63606ac441f4"
      },
      "execution_count": 41,
      "outputs": [
        {
          "output_type": "stream",
          "name": "stdout",
          "text": [
            "1  0.7777777777777778\n",
            "2  0.16666666666666666\n",
            "3  0.3333333333333333\n",
            "4  0.8\n",
            "5  0.05660377358490566\n"
          ]
        }
      ]
    },
    {
      "cell_type": "code",
      "source": [
        "import statistics\n",
        "\n",
        "print('SVM Mean: ',statistics.mean([variance_svm_1,variance_svm_2,variance_svm_3,variance_svm_4,variance_svm_5]))\n",
        "print('Tree Mean: ',statistics.mean([variance_tree_1,variance_tree_2,variance_tree_3,variance_tree_4,variance_tree_5]))\n",
        "\n",
        "\n",
        "print('SVM Variance: ',statistics.variance([variance_svm_1,variance_svm_2,variance_svm_3,variance_svm_4,variance_svm_5]))\n",
        "print('Tree Variance: ',statistics.variance([variance_tree_1,variance_tree_2,variance_tree_3,variance_tree_4,variance_tree_5]))\n"
      ],
      "metadata": {
        "colab": {
          "base_uri": "https://localhost:8080/"
        },
        "id": "ye3OQwzmWKfG",
        "outputId": "34861f64-3b8d-46df-d0ed-c88115e4fe05"
      },
      "execution_count": 50,
      "outputs": [
        {
          "output_type": "stream",
          "name": "stdout",
          "text": [
            "SVM Mean:  0.26020964360587\n",
            "Tree Mean:  0.4268763102725367\n",
            "SVM Variance:  0.07388072289686148\n",
            "Tree Variance:  0.11897855657960087\n"
          ]
        }
      ]
    },
    {
      "cell_type": "markdown",
      "source": [
        "SVM\n",
        "\n",
        "dataset 1 (train: 70, test:30) :\n",
        "\n",
        "dataset 2 (train: 60, test:40) :\n",
        "\n",
        "dataset 3 (train: 50, test:50) :\n",
        "\n",
        "dataset 4 (train: 80, test:20) : Highest accuracy upto 70%\n",
        "\n",
        "dataset 5 (train: 65, test:35) : "
      ],
      "metadata": {
        "id": "-5-tsY-yT6sw"
      }
    },
    {
      "cell_type": "markdown",
      "source": [
        "Tree\n",
        "\n",
        "dataset 1 (train: 70, test:30) :\n",
        "\n",
        "dataset 2 (train: 60, test:40) :\n",
        "\n",
        "dataset 3 (train: 50, test:50) :\n",
        "\n",
        "dataset 4 (train: 80, test:20) : Highest accuracy upto 80%\n",
        "\n",
        "dataset 5 (train: 65, test:35) : \n"
      ],
      "metadata": {
        "id": "TTYoD0LkUdI-"
      }
    },
    {
      "cell_type": "markdown",
      "source": [
        "Decision tree provides more accurate prediction on iris dataset ac compared to SVM\n"
      ],
      "metadata": {
        "id": "VSm88hC8U0al"
      }
    }
  ]
}